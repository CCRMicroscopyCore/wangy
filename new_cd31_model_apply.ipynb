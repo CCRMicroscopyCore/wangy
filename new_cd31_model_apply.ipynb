{
 "cells": [
  {
   "cell_type": "markdown",
   "id": "07b5f4e4",
   "metadata": {},
   "source": [
    "# New CD31 model apply for Yuyi Wang\n",
    "## 03/30/23 \n",
    "\n",
    "### Author: Andy D. Tran, CCR Microscopy Core, LCBG, CCR, NCI"
   ]
  },
  {
   "cell_type": "code",
   "execution_count": 1,
   "id": "888f23ad",
   "metadata": {},
   "outputs": [],
   "source": [
    "# Import libraries----------------------------------------------------------------------------------------\n",
    "\n",
    "import os \n",
    "import numpy as np \n",
    "import cv2 \n",
    "import pandas as pd \n",
    "import pickle \n",
    "import re \n",
    "import czifile as zis \n",
    "import napari\n",
    "\n",
    "from scipy import ndimage as nd\n",
    "from tifffile import imread, imwrite \n",
    "from sklearn.model_selection import train_test_split \n",
    "from sklearn.ensemble import RandomForestClassifier \n",
    "from sklearn import metrics \n",
    "from datetime import datetime \n",
    "from skimage.util import img_as_ubyte \n",
    "from skimage.filters.rank import entropy \n",
    "from skimage.morphology import disk, binary_opening, binary_dilation\n",
    "from skimage.measure import regionprops, label \n",
    "from skimage.segmentation import expand_labels\n",
    "from tqdm import tqdm "
   ]
  },
  {
   "cell_type": "code",
   "execution_count": 2,
   "id": "4e0cc8eb",
   "metadata": {},
   "outputs": [],
   "source": [
    "# Define functions----------------------------------------------------------------------------------------\n",
    "\n",
    "def feature_extract(img):\n",
    "    df = pd.DataFrame() \n",
    "    \n",
    "    print('Add original pixel values')\n",
    "    org = img.reshape(-1)\n",
    "    df['org_image'] = org \n",
    "    \n",
    "    print('Add Gabor features')\n",
    "    num = 1 \n",
    "    kernels = [] \n",
    "    \n",
    "    for theta in range(2):\n",
    "        theta = theta / 4 * np.pi \n",
    "        for sigma in (1, 3):\n",
    "            for lamda in np.arange(0, np.pi, np.pi / 4):\n",
    "                for gamma in (0.05, 0.5):\n",
    "                        \n",
    "                    gabor_label = 'Gabor' + str(num)\n",
    "                    ksize = 3\n",
    "                    kernel = cv2.getGaborKernel((ksize, ksize), sigma, theta, lamda, gamma, 0, ktype = cv2.CV_32F)\n",
    "                    kernels.append(kernel)\n",
    "                        \n",
    "                    fimg = cv2.filter2D(img, cv2.CV_16UC3, kernel)\n",
    "                    filtered_img = fimg.reshape(-1)\n",
    "                        \n",
    "                    df[gabor_label] = filtered_img\n",
    "                    num += 1\n",
    "                        \n",
    "    print('Add Median filter')\n",
    "    for sigma in range(2, 8):\n",
    "        print('Sigma = ' + str(sigma))\n",
    "        \n",
    "        median_tmp = nd.median_filter(img, size = sigma)\n",
    "        median_img = median_tmp.reshape(-1)\n",
    "        median_header = 'Median_sigma_' + str(sigma)\n",
    "        \n",
    "        df[median_header] = median_img \n",
    "        \n",
    "    print('Add Entropy filter')\n",
    "    for sigma in range(2, 8):\n",
    "        print('Sigma = ' + str(sigma))\n",
    "        \n",
    "        entropy_tmp = entropy(img, disk(sigma))\n",
    "        entropy_img = entropy_tmp.reshape(-1)\n",
    "        entropy_header = 'Entropy_sigma_' + str(sigma)\n",
    "        \n",
    "        df[entropy_header] = entropy_img\n",
    "        \n",
    "    return df \n",
    "\n",
    "    print('Feature extraction done!')\n",
    "    \n",
    "def roi_quant(mask, img):\n",
    "    df = pd.DataFrame() \n",
    "    \n",
    "    id = [] \n",
    "    int = []\n",
    "    area = [] \n",
    "    total_area = [] \n",
    "    \n",
    "    roi_props = regionprops(mask, intensity_image = img) \n",
    "    \n",
    "    for roi in range(len(roi_props)):\n",
    "        id.append(roi_props[roi].label)\n",
    "        int.append(roi_props[roi].mean_intensity)\n",
    "        area.append(roi_props[roi].area)\n",
    "        total_area = img.shape[0] * img.shape[1]\n",
    "        \n",
    "    df['id'] = id \n",
    "    df['int'] = int \n",
    "    df['area'] = area \n",
    "    df['total_area'] = total_area \n",
    "    \n",
    "    return df \n",
    "\n",
    "def model_apply(img, model):\n",
    "    print('Segmenting')\n",
    "    df = feature_extract(img)\n",
    "    tmp = model.predict(df)\n",
    "    mask = tmp.reshape(img.shape)\n",
    "    mask = binary_opening(mask)\n",
    "    mask = binary_dilation(mask)\n",
    "    mask = np.uint16(label(mask))\n",
    "    print('Segmentation complete: ', datetime.now())\n",
    "    \n",
    "    return mask\n",
    "\n",
    "def object_apply(img, orig_int, model):\n",
    "    print('Object classification')\n",
    "    df = roi_quant(img, orig_int)\n",
    "    id_array = df['id'].to_numpy() \n",
    "    df = df.drop(labels = ['id', 'total_area'], axis = 1)\n",
    "    print('ML object classification started: ', datetime.now())\n",
    "    object_tmp = model.predict(df)\n",
    "    id_array = np.append(id_array, 0)\n",
    "    object_tmp = np.append(object_tmp, 0)\n",
    "    object_df = pd.DataFrame() \n",
    "    object_df['id'] = id_array \n",
    "    object_df['object_class'] = object_tmp \n",
    "    \n",
    "    mask_id = img.reshape(-1)\n",
    "    mask_df = pd.DataFrame() \n",
    "    mask_df['id'] = mask_id \n",
    "    mask_df = pd.merge(mask_df, object_df, how = 'left', on = ['id'])\n",
    "    mask_df['object_mask'] = np.where(mask_df['object_class'] == 1, 1, 0)\n",
    "    mask = mask_df['object_class'].to_numpy() \n",
    "    mask = mask.reshape(img.shape)\n",
    "    mask = np.uint16(label(mask))\n",
    "    print('Object classification complete: ', datetime.now())\n",
    "    \n",
    "    return mask \n",
    "\n",
    "def main(tmp_path):\n",
    "    tmp_list = os.listdir(tmp_path)\n",
    "    img_list = [] \n",
    "    for tmp_name in tmp_list:\n",
    "        if re.search('.czi', tmp_name):\n",
    "            img_list.append(tmp_name)\n",
    "            \n",
    "        for img_name in img_list:\n",
    "            print(img_name)\n",
    "            img_path = os.path.join(tmp_path, img_name)\n",
    "            czi_img = zis.CziFile(img_path)\n",
    "            img = czi_img.asarray() \n",
    "            img = img[0, 0, :, 0, 0, :, :, 0]\n",
    "            print(img.shape)\n",
    "            \n",
    "            cd31_img = img[0, :, :]\n",
    "            \n",
    "            cd31_mask = model_apply(cd31_img, cd31_model)\n",
    "            #cd31_mask = object_apply(cd31_mask, cd31_img, cd31_object)\n",
    "            cd31_mask_path = os.path.join(tmp_path, img_name.replace('.czi', '_cd31_mask.tif'))\n",
    "            imwrite(cd31_mask_path, cd31_mask)\n",
    "            \n",
    "        print('Quantification complete! ', datetime.now())"
   ]
  },
  {
   "cell_type": "code",
   "execution_count": 8,
   "id": "77430475",
   "metadata": {},
   "outputs": [],
   "source": [
    "# Main function-----------------------------------------------------------------------------------------\n",
    "\n",
    "base_path = '/Volumes/LECIMAGE/Analysis/[NCI] [LCO] Giovanna Tosato/Yuyi Wang/image/LSM880'\n",
    "cd31_model_path = '/Volumes/LECIMAGE/Analysis/[NCI] [LCO] Giovanna Tosato/Yuyi Wang/training/cd31/cd31_model_02'\n",
    "cd31_object_path = '/Volumes/LECIMAGE/Analysis/[NCI] [LCO] Giovanna Tosato/Yuyi Wang/training/cd31_object_classifier/cd31_object_model_02'\n",
    "\n",
    "cd31_model = pickle.load(open(cd31_model_path, 'rb'))\n",
    "cd31_object = pickle.load(open(cd31_object_path, 'rb'))\n"
   ]
  },
  {
   "cell_type": "code",
   "execution_count": 10,
   "id": "0d4dfd66",
   "metadata": {},
   "outputs": [
    {
     "name": "stdout",
     "output_type": "stream",
     "text": [
      "['01_03', '.DS_Store', 'foxo_test_02', 'foxo_test', 'foxo_test_02_13', '02_13']\n",
      "['01_03', 'foxo_test_02', 'foxo_test', 'foxo_test_02_13', '02_13']\n"
     ]
    }
   ],
   "source": [
    "set_list = os.listdir(base_path)\n",
    "print(set_list)\n",
    "\n",
    "set_list.remove('.DS_Store')\n",
    "print(set_list)"
   ]
  },
  {
   "cell_type": "code",
   "execution_count": 11,
   "id": "5c34ccb3",
   "metadata": {},
   "outputs": [
    {
     "name": "stdout",
     "output_type": "stream",
     "text": [
      "['B16F10-shSHP2-control-2-Ki67-CD31.czi', 'B16F10-shSHP2-GDC1-Ki67-CD31.czi', 'B16F10-shSHP2-GDC5-caspase 3-CD31.czi', 'B16F10-shSHP2-control-2-caspase 3-CD31.czi', 'B16F10-shSHP2-GDC2-Ki67-CD31.czi', 'B16F10-shSHP2-control-5-caspase 3-CD31.czi', 'test.czi', 'B16F10-shSHP2-control-3-Ki67-CD31.czi', 'B16F10-shSHP2-control-1-Ki67-CD31.czi', 'B16F10-shSHP2-GDC1-caspase 3-CD31.czi']\n",
      "10\n"
     ]
    }
   ],
   "source": [
    "set_path = os.path.join(base_path, set_list[0])\n",
    "tmp_list = os.listdir(set_path)\n",
    "img_list = [] \n",
    "for tmp in tmp_list:\n",
    "    if re.search('.czi', tmp):\n",
    "        img_list.append(tmp)\n",
    "print(img_list)\n",
    "print(len(img_list))"
   ]
  },
  {
   "cell_type": "code",
   "execution_count": 12,
   "id": "cf2f2bf8",
   "metadata": {},
   "outputs": [
    {
     "name": "stdout",
     "output_type": "stream",
     "text": [
      "(3, 947, 1816)\n"
     ]
    }
   ],
   "source": [
    "img_name = img_list[3]\n",
    "img_path = os.path.join(set_path, img_name)\n",
    "czi_img = zis.CziFile(img_path)\n",
    "img = czi_img.asarray() \n",
    "#img = img[0, :, 0, 0, :, :, 0]\n",
    "img = img[0, 0, :, 0, 0, :, :, 0]\n",
    "print(img.shape)"
   ]
  },
  {
   "cell_type": "code",
   "execution_count": 13,
   "id": "72716581",
   "metadata": {},
   "outputs": [],
   "source": [
    "dapi_img = img[2, :, :]\n",
    "exp_img = img[1, :, :]\n",
    "cd31_img = img[0, :, :]"
   ]
  },
  {
   "cell_type": "code",
   "execution_count": 14,
   "id": "f079633f",
   "metadata": {},
   "outputs": [],
   "source": [
    "viewer = napari.view_image(cd31_img, name = 'CD31')\n",
    "viewer.layers['CD31'].contrast_limits = (0, 500)\n",
    "exp_layer = viewer.add_image(exp_img, name = 'Exp')\n",
    "viewer.layers['Exp'].contrast_limits = (0, 200)\n",
    "dapi_layer = viewer.add_image(dapi_img, name = 'DAPI')\n",
    "viewer.layers['DAPI'].contrast_limits = (0, 500)"
   ]
  },
  {
   "cell_type": "code",
   "execution_count": 15,
   "id": "8c7b6114",
   "metadata": {},
   "outputs": [],
   "source": [
    "viewer.close()"
   ]
  },
  {
   "cell_type": "code",
   "execution_count": 16,
   "id": "c7c63d5d",
   "metadata": {},
   "outputs": [
    {
     "name": "stdout",
     "output_type": "stream",
     "text": [
      "Segmenting\n",
      "Add original pixel values\n",
      "Add Gabor features\n",
      "Add Median filter\n",
      "Sigma = 2\n",
      "Sigma = 3\n",
      "Sigma = 4\n",
      "Sigma = 5\n",
      "Sigma = 6\n",
      "Sigma = 7\n",
      "Add Entropy filter\n",
      "Sigma = 2\n"
     ]
    },
    {
     "name": "stderr",
     "output_type": "stream",
     "text": [
      "/Users/tranad/anaconda3/envs/napari-env/lib/python3.11/site-packages/skimage/filters/rank/generic.py:268: UserWarning: Bad rank filter performance is expected due to a large number of bins (3248), equivalent to an approximate bitdepth of 11.7.\n",
      "  image, footprint, out, mask, n_bins = _preprocess_input(image, footprint,\n"
     ]
    },
    {
     "name": "stdout",
     "output_type": "stream",
     "text": [
      "Sigma = 3\n"
     ]
    },
    {
     "name": "stderr",
     "output_type": "stream",
     "text": [
      "/Users/tranad/anaconda3/envs/napari-env/lib/python3.11/site-packages/skimage/filters/rank/generic.py:268: UserWarning: Bad rank filter performance is expected due to a large number of bins (3248), equivalent to an approximate bitdepth of 11.7.\n",
      "  image, footprint, out, mask, n_bins = _preprocess_input(image, footprint,\n"
     ]
    },
    {
     "name": "stdout",
     "output_type": "stream",
     "text": [
      "Sigma = 4\n"
     ]
    },
    {
     "name": "stderr",
     "output_type": "stream",
     "text": [
      "/Users/tranad/anaconda3/envs/napari-env/lib/python3.11/site-packages/skimage/filters/rank/generic.py:268: UserWarning: Bad rank filter performance is expected due to a large number of bins (3248), equivalent to an approximate bitdepth of 11.7.\n",
      "  image, footprint, out, mask, n_bins = _preprocess_input(image, footprint,\n"
     ]
    },
    {
     "name": "stdout",
     "output_type": "stream",
     "text": [
      "Sigma = 5\n"
     ]
    },
    {
     "name": "stderr",
     "output_type": "stream",
     "text": [
      "/Users/tranad/anaconda3/envs/napari-env/lib/python3.11/site-packages/skimage/filters/rank/generic.py:268: UserWarning: Bad rank filter performance is expected due to a large number of bins (3248), equivalent to an approximate bitdepth of 11.7.\n",
      "  image, footprint, out, mask, n_bins = _preprocess_input(image, footprint,\n"
     ]
    },
    {
     "name": "stdout",
     "output_type": "stream",
     "text": [
      "Sigma = 6\n"
     ]
    },
    {
     "name": "stderr",
     "output_type": "stream",
     "text": [
      "/Users/tranad/anaconda3/envs/napari-env/lib/python3.11/site-packages/skimage/filters/rank/generic.py:268: UserWarning: Bad rank filter performance is expected due to a large number of bins (3248), equivalent to an approximate bitdepth of 11.7.\n",
      "  image, footprint, out, mask, n_bins = _preprocess_input(image, footprint,\n"
     ]
    },
    {
     "name": "stdout",
     "output_type": "stream",
     "text": [
      "Sigma = 7\n"
     ]
    },
    {
     "name": "stderr",
     "output_type": "stream",
     "text": [
      "/Users/tranad/anaconda3/envs/napari-env/lib/python3.11/site-packages/skimage/filters/rank/generic.py:268: UserWarning: Bad rank filter performance is expected due to a large number of bins (3248), equivalent to an approximate bitdepth of 11.7.\n",
      "  image, footprint, out, mask, n_bins = _preprocess_input(image, footprint,\n"
     ]
    },
    {
     "name": "stdout",
     "output_type": "stream",
     "text": [
      "Segmentation complete:  2024-03-01 13:04:04.716447\n"
     ]
    }
   ],
   "source": [
    "cd31_mask = model_apply(cd31_img, cd31_model)"
   ]
  },
  {
   "cell_type": "code",
   "execution_count": 571,
   "id": "b0b6e01c",
   "metadata": {},
   "outputs": [],
   "source": [
    "#cd31_mask_path = os.path.join(set_path, img_name.replace('.czi', '_cd31_mask.tif'))\n",
    "#cd31_mask = imread(cd31_mask_path)"
   ]
  },
  {
   "cell_type": "code",
   "execution_count": 17,
   "id": "b509c18e",
   "metadata": {},
   "outputs": [
    {
     "name": "stdout",
     "output_type": "stream",
     "text": [
      "Object classification\n",
      "ML object classification started:  2024-03-01 13:04:21.740733\n",
      "Object classification complete:  2024-03-01 13:04:21.814858\n"
     ]
    }
   ],
   "source": [
    "cd31_mask = np.uint16(label(cd31_mask))\n",
    "cd31_mask_tmp = object_apply(cd31_mask, cd31_img, cd31_object)"
   ]
  },
  {
   "cell_type": "code",
   "execution_count": 18,
   "id": "1c340aa0",
   "metadata": {},
   "outputs": [],
   "source": [
    "viewer = napari.view_image(cd31_img, name = 'CD31')\n",
    "viewer.layers['CD31'].contrast_limits = (0, 500)\n",
    "mask_layer = viewer.add_labels(cd31_mask, name = 'CD31_mask', blending = 'additive', opacity = 0.5)\n",
    "tmp_layer = viewer.add_labels(cd31_mask_tmp, name = 'CD31_object', blending = 'additive', opacity = 0.5)"
   ]
  },
  {
   "cell_type": "code",
   "execution_count": 57,
   "id": "70764cef",
   "metadata": {},
   "outputs": [
    {
     "name": "stdout",
     "output_type": "stream",
     "text": [
      "(2968, 3941)\n"
     ]
    }
   ],
   "source": [
    "cd31_mask = viewer.layers['CD31_object'].data\n",
    "#cd31_mask = viewer.layers['CD31_mask'].data\n",
    "print(cd31_mask.shape)"
   ]
  },
  {
   "cell_type": "code",
   "execution_count": 58,
   "id": "4a9d2925",
   "metadata": {},
   "outputs": [],
   "source": [
    "cd31_mask_path = os.path.join(set_path, img_name.replace('.czi', '_cd31_mask.tif'))\n",
    "imwrite(cd31_mask_path, cd31_mask)"
   ]
  },
  {
   "cell_type": "code",
   "execution_count": 19,
   "id": "7f7f31f5",
   "metadata": {},
   "outputs": [],
   "source": [
    "cd31_mask_tmp = expand_labels(cd31_mask, distance = 15) \n",
    "cd31_mask_tmp = np.where(cd31_mask_tmp > 0, 1, 0) \n",
    "cd31_mask_tmp = np.uint16(label(cd31_mask_tmp)) \n",
    "\n",
    "cd31_df = roi_quant(cd31_mask_tmp, cd31_img) \n",
    "cd31_df_path = os.path.join(set_path, img_name.replace('.czi', '_cd31_output.csv')) \n",
    "cd31_df.to_csv(cd31_df_path, header = True) \n",
    "\n",
    "island_mask_tmp = expand_labels(cd31_mask_tmp, distance = 250) \n",
    "island_mask = np.subtract(island_mask_tmp, cd31_mask_tmp) \n",
    "island_mask = np.uint16(island_mask) \n",
    "island_mask_path = os.path.join(set_path, img_name.replace('.czi', '_island_mask.tif')) \n",
    "imwrite(island_mask_path, island_mask)\n",
    "\n",
    "exp_df = roi_quant(island_mask, exp_img) \n",
    "exp_df_path = os.path.join(set_path, img_name.replace('.czi', '_exp_output.csv')) \n",
    "exp_df.to_csv(exp_df_path, header = True) "
   ]
  },
  {
   "cell_type": "code",
   "execution_count": 20,
   "id": "3736b844",
   "metadata": {},
   "outputs": [],
   "source": [
    "exp_layer = viewer.add_image(exp_img, name = 'Exp')\n",
    "island_layer = viewer.add_labels(island_mask, name = 'island_mask', blending = 'additive', opacity = 0.5)"
   ]
  },
  {
   "cell_type": "code",
   "execution_count": 61,
   "id": "6edd6346",
   "metadata": {},
   "outputs": [],
   "source": [
    "island_mask = viewer.layers['island_mask'].data\n",
    "island_mask_path = os.path.join(set_path, img_name.replace('.czi', '_island_mask.tif')) \n",
    "imwrite(island_mask_path, island_mask)"
   ]
  },
  {
   "cell_type": "code",
   "execution_count": 62,
   "id": "b3c82069",
   "metadata": {},
   "outputs": [],
   "source": [
    "viewer.close()"
   ]
  },
  {
   "cell_type": "markdown",
   "id": "03c4a556",
   "metadata": {},
   "source": [
    "### Extra"
   ]
  },
  {
   "cell_type": "code",
   "execution_count": 191,
   "id": "e2e37fbd",
   "metadata": {},
   "outputs": [
    {
     "name": "stdout",
     "output_type": "stream",
     "text": [
      "(19045, 10290)\n"
     ]
    }
   ],
   "source": [
    "print(cd31_img.shape)"
   ]
  },
  {
   "cell_type": "code",
   "execution_count": 195,
   "id": "a6aa6f06",
   "metadata": {},
   "outputs": [
    {
     "name": "stdout",
     "output_type": "stream",
     "text": [
      "9522 5145\n"
     ]
    }
   ],
   "source": [
    "y_index = round(19045/2)\n",
    "x_index = round(10290/2)\n",
    "print(y_index, x_index)"
   ]
  },
  {
   "cell_type": "code",
   "execution_count": 196,
   "id": "a02c8b45",
   "metadata": {},
   "outputs": [
    {
     "name": "stdout",
     "output_type": "stream",
     "text": [
      "(9522, 5145)\n"
     ]
    }
   ],
   "source": [
    "cd31_img_a = cd31_img[0:y_index, 0:x_index]\n",
    "print(cd31_img_a.shape)"
   ]
  },
  {
   "cell_type": "code",
   "execution_count": 197,
   "id": "66c887cc",
   "metadata": {},
   "outputs": [
    {
     "name": "stdout",
     "output_type": "stream",
     "text": [
      "Segmenting\n",
      "Add original pixel values\n",
      "Add Gabor features\n",
      "Add Median filter\n",
      "Sigma = 2\n",
      "Sigma = 3\n",
      "Sigma = 4\n",
      "Sigma = 5\n",
      "Sigma = 6\n",
      "Sigma = 7\n",
      "Add Entropy filter\n",
      "Sigma = 2\n"
     ]
    },
    {
     "name": "stderr",
     "output_type": "stream",
     "text": [
      "/Users/tranad/opt/anaconda3/envs/napari-env/lib/python3.9/site-packages/skimage/filters/rank/generic.py:262: UserWarning: Bad rank filter performance is expected due to a large number of bins (4091), equivalent to an approximate bitdepth of 12.0.\n",
      "  image, footprint, out, mask, n_bins = _preprocess_input(image, footprint,\n"
     ]
    },
    {
     "name": "stdout",
     "output_type": "stream",
     "text": [
      "Sigma = 3\n"
     ]
    },
    {
     "name": "stderr",
     "output_type": "stream",
     "text": [
      "/Users/tranad/opt/anaconda3/envs/napari-env/lib/python3.9/site-packages/skimage/filters/rank/generic.py:262: UserWarning: Bad rank filter performance is expected due to a large number of bins (4091), equivalent to an approximate bitdepth of 12.0.\n",
      "  image, footprint, out, mask, n_bins = _preprocess_input(image, footprint,\n"
     ]
    },
    {
     "name": "stdout",
     "output_type": "stream",
     "text": [
      "Sigma = 4\n"
     ]
    },
    {
     "name": "stderr",
     "output_type": "stream",
     "text": [
      "/Users/tranad/opt/anaconda3/envs/napari-env/lib/python3.9/site-packages/skimage/filters/rank/generic.py:262: UserWarning: Bad rank filter performance is expected due to a large number of bins (4091), equivalent to an approximate bitdepth of 12.0.\n",
      "  image, footprint, out, mask, n_bins = _preprocess_input(image, footprint,\n"
     ]
    },
    {
     "name": "stdout",
     "output_type": "stream",
     "text": [
      "Sigma = 5\n"
     ]
    },
    {
     "name": "stderr",
     "output_type": "stream",
     "text": [
      "/Users/tranad/opt/anaconda3/envs/napari-env/lib/python3.9/site-packages/skimage/filters/rank/generic.py:262: UserWarning: Bad rank filter performance is expected due to a large number of bins (4091), equivalent to an approximate bitdepth of 12.0.\n",
      "  image, footprint, out, mask, n_bins = _preprocess_input(image, footprint,\n"
     ]
    },
    {
     "name": "stdout",
     "output_type": "stream",
     "text": [
      "Sigma = 6\n"
     ]
    },
    {
     "name": "stderr",
     "output_type": "stream",
     "text": [
      "/Users/tranad/opt/anaconda3/envs/napari-env/lib/python3.9/site-packages/skimage/filters/rank/generic.py:262: UserWarning: Bad rank filter performance is expected due to a large number of bins (4091), equivalent to an approximate bitdepth of 12.0.\n",
      "  image, footprint, out, mask, n_bins = _preprocess_input(image, footprint,\n"
     ]
    },
    {
     "name": "stdout",
     "output_type": "stream",
     "text": [
      "Sigma = 7\n"
     ]
    },
    {
     "name": "stderr",
     "output_type": "stream",
     "text": [
      "/Users/tranad/opt/anaconda3/envs/napari-env/lib/python3.9/site-packages/skimage/filters/rank/generic.py:262: UserWarning: Bad rank filter performance is expected due to a large number of bins (4091), equivalent to an approximate bitdepth of 12.0.\n",
      "  image, footprint, out, mask, n_bins = _preprocess_input(image, footprint,\n"
     ]
    },
    {
     "name": "stdout",
     "output_type": "stream",
     "text": [
      "Segmentation complete:  2023-04-21 15:23:25.048768\n"
     ]
    }
   ],
   "source": [
    "cd31_mask = model_apply(cd31_img_a, cd31_model)"
   ]
  },
  {
   "cell_type": "code",
   "execution_count": 198,
   "id": "c6e7bf0e",
   "metadata": {},
   "outputs": [],
   "source": [
    "cd31_mask_a = cd31_mask"
   ]
  },
  {
   "cell_type": "code",
   "execution_count": 200,
   "id": "02914b63",
   "metadata": {},
   "outputs": [
    {
     "name": "stdout",
     "output_type": "stream",
     "text": [
      "(9522, 5145)\n"
     ]
    }
   ],
   "source": [
    "cd31_img_b = cd31_img[0:y_index, x_index:]\n",
    "print(cd31_img_b.shape)"
   ]
  },
  {
   "cell_type": "code",
   "execution_count": 201,
   "id": "51eadf58",
   "metadata": {},
   "outputs": [
    {
     "name": "stdout",
     "output_type": "stream",
     "text": [
      "Segmenting\n",
      "Add original pixel values\n",
      "Add Gabor features\n",
      "Add Median filter\n",
      "Sigma = 2\n",
      "Sigma = 3\n",
      "Sigma = 4\n",
      "Sigma = 5\n",
      "Sigma = 6\n",
      "Sigma = 7\n",
      "Add Entropy filter\n",
      "Sigma = 2\n"
     ]
    },
    {
     "name": "stderr",
     "output_type": "stream",
     "text": [
      "/Users/tranad/opt/anaconda3/envs/napari-env/lib/python3.9/site-packages/skimage/filters/rank/generic.py:262: UserWarning: Bad rank filter performance is expected due to a large number of bins (4096), equivalent to an approximate bitdepth of 12.0.\n",
      "  image, footprint, out, mask, n_bins = _preprocess_input(image, footprint,\n"
     ]
    },
    {
     "name": "stdout",
     "output_type": "stream",
     "text": [
      "Sigma = 3\n"
     ]
    },
    {
     "name": "stderr",
     "output_type": "stream",
     "text": [
      "/Users/tranad/opt/anaconda3/envs/napari-env/lib/python3.9/site-packages/skimage/filters/rank/generic.py:262: UserWarning: Bad rank filter performance is expected due to a large number of bins (4096), equivalent to an approximate bitdepth of 12.0.\n",
      "  image, footprint, out, mask, n_bins = _preprocess_input(image, footprint,\n"
     ]
    },
    {
     "name": "stdout",
     "output_type": "stream",
     "text": [
      "Sigma = 4\n"
     ]
    },
    {
     "name": "stderr",
     "output_type": "stream",
     "text": [
      "/Users/tranad/opt/anaconda3/envs/napari-env/lib/python3.9/site-packages/skimage/filters/rank/generic.py:262: UserWarning: Bad rank filter performance is expected due to a large number of bins (4096), equivalent to an approximate bitdepth of 12.0.\n",
      "  image, footprint, out, mask, n_bins = _preprocess_input(image, footprint,\n"
     ]
    },
    {
     "name": "stdout",
     "output_type": "stream",
     "text": [
      "Sigma = 5\n"
     ]
    },
    {
     "name": "stderr",
     "output_type": "stream",
     "text": [
      "/Users/tranad/opt/anaconda3/envs/napari-env/lib/python3.9/site-packages/skimage/filters/rank/generic.py:262: UserWarning: Bad rank filter performance is expected due to a large number of bins (4096), equivalent to an approximate bitdepth of 12.0.\n",
      "  image, footprint, out, mask, n_bins = _preprocess_input(image, footprint,\n"
     ]
    },
    {
     "name": "stdout",
     "output_type": "stream",
     "text": [
      "Sigma = 6\n"
     ]
    },
    {
     "name": "stderr",
     "output_type": "stream",
     "text": [
      "/Users/tranad/opt/anaconda3/envs/napari-env/lib/python3.9/site-packages/skimage/filters/rank/generic.py:262: UserWarning: Bad rank filter performance is expected due to a large number of bins (4096), equivalent to an approximate bitdepth of 12.0.\n",
      "  image, footprint, out, mask, n_bins = _preprocess_input(image, footprint,\n"
     ]
    },
    {
     "name": "stdout",
     "output_type": "stream",
     "text": [
      "Sigma = 7\n"
     ]
    },
    {
     "name": "stderr",
     "output_type": "stream",
     "text": [
      "/Users/tranad/opt/anaconda3/envs/napari-env/lib/python3.9/site-packages/skimage/filters/rank/generic.py:262: UserWarning: Bad rank filter performance is expected due to a large number of bins (4096), equivalent to an approximate bitdepth of 12.0.\n",
      "  image, footprint, out, mask, n_bins = _preprocess_input(image, footprint,\n"
     ]
    },
    {
     "name": "stdout",
     "output_type": "stream",
     "text": [
      "Segmentation complete:  2023-04-21 15:50:37.045973\n"
     ]
    }
   ],
   "source": [
    "cd31_mask = model_apply(cd31_img_b, cd31_model)"
   ]
  },
  {
   "cell_type": "code",
   "execution_count": 202,
   "id": "fd9aefdd",
   "metadata": {},
   "outputs": [],
   "source": [
    "cd31_mask_b = cd31_mask"
   ]
  },
  {
   "cell_type": "code",
   "execution_count": 203,
   "id": "c9e3a1f6",
   "metadata": {},
   "outputs": [
    {
     "name": "stdout",
     "output_type": "stream",
     "text": [
      "(9523, 5145)\n"
     ]
    }
   ],
   "source": [
    "cd31_img_c = cd31_img[y_index:, 0:x_index]\n",
    "print(cd31_img_c.shape)"
   ]
  },
  {
   "cell_type": "code",
   "execution_count": 204,
   "id": "bfc2b8f9",
   "metadata": {},
   "outputs": [
    {
     "name": "stdout",
     "output_type": "stream",
     "text": [
      "Segmenting\n",
      "Add original pixel values\n",
      "Add Gabor features\n",
      "Add Median filter\n",
      "Sigma = 2\n",
      "Sigma = 3\n",
      "Sigma = 4\n",
      "Sigma = 5\n",
      "Sigma = 6\n",
      "Sigma = 7\n",
      "Add Entropy filter\n",
      "Sigma = 2\n"
     ]
    },
    {
     "name": "stderr",
     "output_type": "stream",
     "text": [
      "/Users/tranad/opt/anaconda3/envs/napari-env/lib/python3.9/site-packages/skimage/filters/rank/generic.py:262: UserWarning: Bad rank filter performance is expected due to a large number of bins (4096), equivalent to an approximate bitdepth of 12.0.\n",
      "  image, footprint, out, mask, n_bins = _preprocess_input(image, footprint,\n"
     ]
    },
    {
     "name": "stdout",
     "output_type": "stream",
     "text": [
      "Sigma = 3\n"
     ]
    },
    {
     "name": "stderr",
     "output_type": "stream",
     "text": [
      "/Users/tranad/opt/anaconda3/envs/napari-env/lib/python3.9/site-packages/skimage/filters/rank/generic.py:262: UserWarning: Bad rank filter performance is expected due to a large number of bins (4096), equivalent to an approximate bitdepth of 12.0.\n",
      "  image, footprint, out, mask, n_bins = _preprocess_input(image, footprint,\n"
     ]
    },
    {
     "name": "stdout",
     "output_type": "stream",
     "text": [
      "Sigma = 4\n"
     ]
    },
    {
     "name": "stderr",
     "output_type": "stream",
     "text": [
      "/Users/tranad/opt/anaconda3/envs/napari-env/lib/python3.9/site-packages/skimage/filters/rank/generic.py:262: UserWarning: Bad rank filter performance is expected due to a large number of bins (4096), equivalent to an approximate bitdepth of 12.0.\n",
      "  image, footprint, out, mask, n_bins = _preprocess_input(image, footprint,\n"
     ]
    },
    {
     "name": "stdout",
     "output_type": "stream",
     "text": [
      "Sigma = 5\n"
     ]
    },
    {
     "name": "stderr",
     "output_type": "stream",
     "text": [
      "/Users/tranad/opt/anaconda3/envs/napari-env/lib/python3.9/site-packages/skimage/filters/rank/generic.py:262: UserWarning: Bad rank filter performance is expected due to a large number of bins (4096), equivalent to an approximate bitdepth of 12.0.\n",
      "  image, footprint, out, mask, n_bins = _preprocess_input(image, footprint,\n"
     ]
    },
    {
     "name": "stdout",
     "output_type": "stream",
     "text": [
      "Sigma = 6\n"
     ]
    },
    {
     "name": "stderr",
     "output_type": "stream",
     "text": [
      "/Users/tranad/opt/anaconda3/envs/napari-env/lib/python3.9/site-packages/skimage/filters/rank/generic.py:262: UserWarning: Bad rank filter performance is expected due to a large number of bins (4096), equivalent to an approximate bitdepth of 12.0.\n",
      "  image, footprint, out, mask, n_bins = _preprocess_input(image, footprint,\n"
     ]
    },
    {
     "name": "stdout",
     "output_type": "stream",
     "text": [
      "Sigma = 7\n"
     ]
    },
    {
     "name": "stderr",
     "output_type": "stream",
     "text": [
      "/Users/tranad/opt/anaconda3/envs/napari-env/lib/python3.9/site-packages/skimage/filters/rank/generic.py:262: UserWarning: Bad rank filter performance is expected due to a large number of bins (4096), equivalent to an approximate bitdepth of 12.0.\n",
      "  image, footprint, out, mask, n_bins = _preprocess_input(image, footprint,\n"
     ]
    },
    {
     "name": "stdout",
     "output_type": "stream",
     "text": [
      "Segmentation complete:  2023-04-21 16:33:40.594592\n"
     ]
    }
   ],
   "source": [
    "cd31_mask = model_apply(cd31_img_c, cd31_model)"
   ]
  },
  {
   "cell_type": "code",
   "execution_count": 205,
   "id": "b8160b9f",
   "metadata": {},
   "outputs": [],
   "source": [
    "cd31_mask_c = cd31_mask"
   ]
  },
  {
   "cell_type": "code",
   "execution_count": 206,
   "id": "2ab967f3",
   "metadata": {},
   "outputs": [
    {
     "name": "stdout",
     "output_type": "stream",
     "text": [
      "(9523, 5145)\n"
     ]
    }
   ],
   "source": [
    "cd31_img_d = cd31_img[y_index:, x_index:]\n",
    "print(cd31_img_d.shape)"
   ]
  },
  {
   "cell_type": "code",
   "execution_count": 207,
   "id": "e8777fdc",
   "metadata": {},
   "outputs": [
    {
     "name": "stdout",
     "output_type": "stream",
     "text": [
      "Segmenting\n",
      "Add original pixel values\n",
      "Add Gabor features\n",
      "Add Median filter\n",
      "Sigma = 2\n",
      "Sigma = 3\n",
      "Sigma = 4\n",
      "Sigma = 5\n",
      "Sigma = 6\n",
      "Sigma = 7\n",
      "Add Entropy filter\n",
      "Sigma = 2\n"
     ]
    },
    {
     "name": "stderr",
     "output_type": "stream",
     "text": [
      "/Users/tranad/opt/anaconda3/envs/napari-env/lib/python3.9/site-packages/skimage/filters/rank/generic.py:262: UserWarning: Bad rank filter performance is expected due to a large number of bins (4045), equivalent to an approximate bitdepth of 12.0.\n",
      "  image, footprint, out, mask, n_bins = _preprocess_input(image, footprint,\n"
     ]
    },
    {
     "name": "stdout",
     "output_type": "stream",
     "text": [
      "Sigma = 3\n"
     ]
    },
    {
     "name": "stderr",
     "output_type": "stream",
     "text": [
      "/Users/tranad/opt/anaconda3/envs/napari-env/lib/python3.9/site-packages/skimage/filters/rank/generic.py:262: UserWarning: Bad rank filter performance is expected due to a large number of bins (4045), equivalent to an approximate bitdepth of 12.0.\n",
      "  image, footprint, out, mask, n_bins = _preprocess_input(image, footprint,\n"
     ]
    },
    {
     "name": "stdout",
     "output_type": "stream",
     "text": [
      "Sigma = 4\n"
     ]
    },
    {
     "name": "stderr",
     "output_type": "stream",
     "text": [
      "/Users/tranad/opt/anaconda3/envs/napari-env/lib/python3.9/site-packages/skimage/filters/rank/generic.py:262: UserWarning: Bad rank filter performance is expected due to a large number of bins (4045), equivalent to an approximate bitdepth of 12.0.\n",
      "  image, footprint, out, mask, n_bins = _preprocess_input(image, footprint,\n"
     ]
    },
    {
     "name": "stdout",
     "output_type": "stream",
     "text": [
      "Sigma = 5\n"
     ]
    },
    {
     "name": "stderr",
     "output_type": "stream",
     "text": [
      "/Users/tranad/opt/anaconda3/envs/napari-env/lib/python3.9/site-packages/skimage/filters/rank/generic.py:262: UserWarning: Bad rank filter performance is expected due to a large number of bins (4045), equivalent to an approximate bitdepth of 12.0.\n",
      "  image, footprint, out, mask, n_bins = _preprocess_input(image, footprint,\n"
     ]
    },
    {
     "name": "stdout",
     "output_type": "stream",
     "text": [
      "Sigma = 6\n"
     ]
    },
    {
     "name": "stderr",
     "output_type": "stream",
     "text": [
      "/Users/tranad/opt/anaconda3/envs/napari-env/lib/python3.9/site-packages/skimage/filters/rank/generic.py:262: UserWarning: Bad rank filter performance is expected due to a large number of bins (4045), equivalent to an approximate bitdepth of 12.0.\n",
      "  image, footprint, out, mask, n_bins = _preprocess_input(image, footprint,\n"
     ]
    },
    {
     "name": "stdout",
     "output_type": "stream",
     "text": [
      "Sigma = 7\n"
     ]
    },
    {
     "name": "stderr",
     "output_type": "stream",
     "text": [
      "/Users/tranad/opt/anaconda3/envs/napari-env/lib/python3.9/site-packages/skimage/filters/rank/generic.py:262: UserWarning: Bad rank filter performance is expected due to a large number of bins (4045), equivalent to an approximate bitdepth of 12.0.\n",
      "  image, footprint, out, mask, n_bins = _preprocess_input(image, footprint,\n"
     ]
    },
    {
     "name": "stdout",
     "output_type": "stream",
     "text": [
      "Segmentation complete:  2023-04-24 09:25:02.243117\n"
     ]
    }
   ],
   "source": [
    "cd31_mask = model_apply(cd31_img_d, cd31_model)"
   ]
  },
  {
   "cell_type": "code",
   "execution_count": 208,
   "id": "7f80d5db",
   "metadata": {},
   "outputs": [],
   "source": [
    "cd31_mask_d = cd31_mask"
   ]
  },
  {
   "cell_type": "code",
   "execution_count": 210,
   "id": "91e421f1",
   "metadata": {},
   "outputs": [
    {
     "data": {
      "text/plain": [
       "(9522, 10290)"
      ]
     },
     "execution_count": 210,
     "metadata": {},
     "output_type": "execute_result"
    }
   ],
   "source": [
    "cd31_mask_ab = np.concatenate((cd31_mask_a, cd31_mask_b), axis = 1)\n",
    "cd31_mask_ab.shape"
   ]
  },
  {
   "cell_type": "code",
   "execution_count": 211,
   "id": "1290fdee",
   "metadata": {},
   "outputs": [
    {
     "data": {
      "text/plain": [
       "(9523, 10290)"
      ]
     },
     "execution_count": 211,
     "metadata": {},
     "output_type": "execute_result"
    }
   ],
   "source": [
    "cd31_mask_cd = np.concatenate((cd31_mask_c, cd31_mask_d), axis = 1)\n",
    "cd31_mask_cd.shape"
   ]
  },
  {
   "cell_type": "code",
   "execution_count": 212,
   "id": "519d541d",
   "metadata": {},
   "outputs": [
    {
     "data": {
      "text/plain": [
       "(19045, 10290)"
      ]
     },
     "execution_count": 212,
     "metadata": {},
     "output_type": "execute_result"
    }
   ],
   "source": [
    "cd31_mask = np.concatenate((cd31_mask_ab, cd31_mask_cd), axis = 0)\n",
    "cd31_mask.shape"
   ]
  },
  {
   "cell_type": "code",
   "execution_count": 214,
   "id": "8fd2eaa5",
   "metadata": {},
   "outputs": [],
   "source": [
    "cd31_mask = np.uint16(label(cd31_mask))"
   ]
  },
  {
   "cell_type": "code",
   "execution_count": null,
   "id": "170d3cfc",
   "metadata": {},
   "outputs": [],
   "source": []
  }
 ],
 "metadata": {
  "kernelspec": {
   "display_name": "Python 3 (ipykernel)",
   "language": "python",
   "name": "python3"
  },
  "language_info": {
   "codemirror_mode": {
    "name": "ipython",
    "version": 3
   },
   "file_extension": ".py",
   "mimetype": "text/x-python",
   "name": "python",
   "nbconvert_exporter": "python",
   "pygments_lexer": "ipython3",
   "version": "3.11.7"
  }
 },
 "nbformat": 4,
 "nbformat_minor": 5
}
