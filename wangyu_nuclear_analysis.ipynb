{
 "cells": [
  {
   "cell_type": "markdown",
   "id": "619c8ee6",
   "metadata": {},
   "source": [
    "# Tissue nuclear analysis for wangyu\n",
    "\n",
    "### Cellpose model segment every nuclei. Quantify intensities.\n",
    "\n",
    "### 03/04/24\n",
    "### Author: Andy D. Tran, CCR Microscopy Core, LCBG, CCR, NCI"
   ]
  },
  {
   "cell_type": "code",
   "execution_count": 1,
   "id": "e969cd22",
   "metadata": {},
   "outputs": [],
   "source": [
    "# Import libraries-----------------------------------------------------------------------------------------------\n",
    "\n",
    "import os \n",
    "import numpy as np \n",
    "import pandas as pd \n",
    "#import napari \n",
    "import re \n",
    "\n",
    "from scipy import ndimage as nd \n",
    "from aicsimageio import AICSImage\n",
    "from tifffile import imread, imwrite\n",
    "from skimage.measure import regionprops\n",
    "from tqdm import tqdm\n",
    "from cellpose import models"
   ]
  },
  {
   "cell_type": "code",
   "execution_count": 2,
   "id": "948d2d21",
   "metadata": {},
   "outputs": [],
   "source": [
    "# Define functions------------------------------------------------------------------------------------------------\n",
    "\n",
    "def model_apply(model, img):\n",
    "    mask, flows, style = model.eval(img, channels = [0, 0])\n",
    "    \n",
    "    return mask\n",
    "\n",
    "def roi_quant(cell_img, green_img, cd31_img):\n",
    "    df = pd.DataFrame() \n",
    "    \n",
    "    cell_id = []\n",
    "    area = [] \n",
    "    green_int = [] \n",
    "    cd31_int = [] \n",
    "    \n",
    "    green_props = regionprops(cell_img, intensity_image = green_img)\n",
    "    cd31_props = regionprops(cell_img, intensity_image = cd31_img)\n",
    "    \n",
    "    for roi in tqdm(range(len(green_props))):\n",
    "        cell_id.append(green_props[roi].label)\n",
    "        area.append(green_props[roi].area)\n",
    "        green_int.append(green_props[roi].mean_intensity)\n",
    "        cd31_int.append(cd31_props[roi].mean_intensity)\n",
    "        \n",
    "    df['cell_id'] = cell_id\n",
    "    df['area'] = area\n",
    "    df['green_int'] = green_int\n",
    "    df['cd31_int'] = cd31_int\n",
    "    \n",
    "    return df \n",
    "\n",
    "class iterator:\n",
    "  def __iter__(self):\n",
    "    self.a = 1\n",
    "    return self\n",
    "\n",
    "  def __next__(self):\n",
    "    x = self.a\n",
    "    self.a += 1\n",
    "    return x"
   ]
  },
  {
   "cell_type": "code",
   "execution_count": 3,
   "id": "d08bda9f",
   "metadata": {},
   "outputs": [],
   "source": [
    "cell_model = models.CellposeModel(gpu = True, pretrained_model = '/data/tranad/image/wangyu/training/nuc/models/wangyu_nuc_02')"
   ]
  },
  {
   "cell_type": "code",
   "execution_count": 176,
   "id": "54769528",
   "metadata": {},
   "outputs": [],
   "source": [
    "base_path = '/data/tranad/image/wangyu/images/12_28'"
   ]
  },
  {
   "cell_type": "code",
   "execution_count": 177,
   "id": "628e7d87",
   "metadata": {},
   "outputs": [
    {
     "name": "stdout",
     "output_type": "stream",
     "text": [
      "['B16F10-shSHP2-C5-Ki67-CD31.czi', 'B16F10-shSHP2-GDC4-Ki67-CD31.czi', 'B16F10-shSHP2-GDC3-FITC-dextran-Ki67-CD31.czi', 'B16F10-shSHP2-C4-FITC-dextran-Ki67-CD31.czi', 'MS1.czi', 'B16F10-shSHP2-GDC5-Ki67-CD31.czi', 'MS2.czi']\n",
      "7\n"
     ]
    }
   ],
   "source": [
    "tmp_list = os.listdir(base_path)\n",
    "\n",
    "img_list = [] \n",
    "for tmp in tmp_list:\n",
    "    if re.search('.czi', tmp):\n",
    "        img_list.append(tmp)\n",
    "        \n",
    "print(img_list)\n",
    "print(len(img_list))"
   ]
  },
  {
   "cell_type": "code",
   "execution_count": null,
   "id": "75597f97",
   "metadata": {},
   "outputs": [],
   "source": [
    "iterclass = iterator()\n",
    "index = iter(iterclass)\n",
    "\n",
    "for img_name in img_list:\n",
    "    print(img_name)\n",
    "    print(next(index), '/', len(img_list))\n",
    "    \n",
    "    img_path = os.path.join(base_path, img_name)\n",
    "    img_tmp = AICSImage(img_path)\n",
    "    print(img_tmp.shape)\n",
    "    print(img_tmp.channel_names)\n",
    "    \n",
    "    img = img_tmp.data\n",
    "    \n",
    "    cd31_img = img[0, 0, 0, :, :]\n",
    "    green_img = img[0, 1, 0, :, :]\n",
    "    dapi_img = img[0, 2, 0, :, :]\n",
    "    \n",
    "    cell_img = model_apply(cell_model, dapi_img)\n",
    "    cell_img = np.uint16(cell_img)\n",
    "    cell_path = os.path.join(base_path, img_name.replace('.czi', '_cell.tif'))\n",
    "    imwrite(cell_path, cell_img)\n",
    "    \n",
    "    cell_df = roi_quant(cell_img, green_img, cd31_img)\n",
    "    df_path = os.path.join(base_path, img_name.replace('.czi', '_df.csv'))\n",
    "    cell_df.to_csv(df_path, header = True)"
   ]
  },
  {
   "cell_type": "markdown",
   "id": "ab291314",
   "metadata": {},
   "source": [
    "### Test"
   ]
  },
  {
   "cell_type": "code",
   "execution_count": 199,
   "id": "1d975287",
   "metadata": {},
   "outputs": [
    {
     "name": "stdout",
     "output_type": "stream",
     "text": [
      "B16F10-shSHP2-GDC5-Ki67-CD31.czi\n",
      "(1, 3, 1, 3557, 2251)\n",
      "['ChS2-T2', 'ChS1-T3', 'Ch1-T4']\n"
     ]
    }
   ],
   "source": [
    "#img_name = img_list[4]\n",
    "img_name = 'B16F10-shSHP2-GDC5-Ki67-CD31.czi'\n",
    "print(img_name)\n",
    "\n",
    "img_path = os.path.join(base_path, img_name)\n",
    "img_tmp = AICSImage(img_path)\n",
    "print(img_tmp.shape)\n",
    "print(img_tmp.channel_names)"
   ]
  },
  {
   "cell_type": "code",
   "execution_count": 200,
   "id": "c18e31f2",
   "metadata": {},
   "outputs": [
    {
     "name": "stdout",
     "output_type": "stream",
     "text": [
      "(3557, 2251)\n"
     ]
    }
   ],
   "source": [
    "img = img_tmp.data\n",
    "\n",
    "cd31_img = img[0, 1, 0, :, :]\n",
    "green_img = img[0, 2, 0, :, :]\n",
    "dapi_img = img[0, 2, 0, :, :]\n",
    "\n",
    "print(dapi_img.shape)"
   ]
  },
  {
   "cell_type": "code",
   "execution_count": 201,
   "id": "ba3dba61",
   "metadata": {},
   "outputs": [],
   "source": [
    "cell_img = model_apply(cell_model, dapi_img)"
   ]
  },
  {
   "cell_type": "code",
   "execution_count": 202,
   "id": "7441956c",
   "metadata": {},
   "outputs": [],
   "source": [
    "output_path = '/data/tranad/image/wangyu/output/12_28'\n",
    "\n",
    "cell_img = np.uint16(cell_img)\n",
    "cell_path = os.path.join(output_path, img_name.replace('.czi', '_cell.tif'))\n",
    "imwrite(cell_path, cell_img)"
   ]
  },
  {
   "cell_type": "code",
   "execution_count": 203,
   "id": "dff9ab16",
   "metadata": {},
   "outputs": [
    {
     "name": "stderr",
     "output_type": "stream",
     "text": [
      "100%|████████████████████████████████████| 2626/2626 [00:00<00:00, 14944.58it/s]\n"
     ]
    }
   ],
   "source": [
    "cell_df = roi_quant(cell_img, green_img, cd31_img)"
   ]
  },
  {
   "cell_type": "code",
   "execution_count": 204,
   "id": "0c324ea2",
   "metadata": {},
   "outputs": [],
   "source": [
    "df_path = os.path.join(output_path, img_name.replace('.czi', '_df.csv'))\n",
    "cell_df.to_csv(df_path, header = True)"
   ]
  },
  {
   "cell_type": "code",
   "execution_count": 205,
   "id": "3337115d",
   "metadata": {},
   "outputs": [
    {
     "name": "stdout",
     "output_type": "stream",
     "text": [
      "(3557, 2251)\n"
     ]
    }
   ],
   "source": [
    "print(cell_img.shape)"
   ]
  },
  {
   "cell_type": "code",
   "execution_count": null,
   "id": "e3a948f8",
   "metadata": {},
   "outputs": [],
   "source": []
  }
 ],
 "metadata": {
  "kernelspec": {
   "display_name": "Python 3 (ipykernel)",
   "language": "python",
   "name": "python3"
  },
  "language_info": {
   "codemirror_mode": {
    "name": "ipython",
    "version": 3
   },
   "file_extension": ".py",
   "mimetype": "text/x-python",
   "name": "python",
   "nbconvert_exporter": "python",
   "pygments_lexer": "ipython3",
   "version": "3.10.8"
  }
 },
 "nbformat": 4,
 "nbformat_minor": 5
}
